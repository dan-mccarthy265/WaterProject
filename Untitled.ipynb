{
 "cells": [
  {
   "cell_type": "code",
   "execution_count": 8,
   "id": "nominated-percentage",
   "metadata": {},
   "outputs": [
    {
     "name": "stdout",
     "output_type": "stream",
     "text": [
      "['', '204.8904555', '20791.31898', '7.300211873', '368.5164413', '564.3086542', '10.37978308', '86.99097046', '2.963135381', '0']\n",
      "['10.22386216', '248.0717353', '28749.71654', '7.513408466', '393.6633955', '283.6516335', '13.78969532', '84.60355617', '2.672988737', '0']\n",
      "['', '118.9885791', '14285.58385', '7.804173553', '268.6469407', '389.3755659', '12.70604897', '53.92884577', '3.595017181', '0']\n",
      "1968\n",
      "654\n",
      "654\n",
      "['ph', 'Hardness', 'Solids', 'Chloramines', 'Sulfate', 'Conductivity', 'Organic_carbon', 'Trihalomethanes', 'Turbidity', 'Potability']\n"
     ]
    }
   ],
   "source": [
    "import csv\n",
    "f = \"drinking_water_potability.csv\"\n",
    "training = []\n",
    "validation = []\n",
    "test = []\n",
    "fields = []\n",
    "with open (f, 'r') as csvfile:\n",
    "    csvreader = csv.reader(csvfile)\n",
    "    fields = next(csvreader)\n",
    "    count = 0\n",
    "    for row in csvreader:\n",
    "        if count < 6:\n",
    "            training.append(row)\n",
    "        elif count < 8:\n",
    "            validation.append(row)\n",
    "        elif count < 10:\n",
    "            test.append(row)\n",
    "        count += 1\n",
    "        if count == 10:\n",
    "            count = 0\n",
    "\n",
    "print(training[0])\n",
    "print(validation[0])\n",
    "print(test[0])\n",
    "print(len(training))\n",
    "print(len(validation))\n",
    "print(len(test))\n",
    "        \n",
    "print(fields)\n",
    "            "
   ]
  },
  {
   "cell_type": "code",
   "execution_count": null,
   "id": "sublime-parish",
   "metadata": {},
   "outputs": [],
   "source": []
  }
 ],
 "metadata": {
  "kernelspec": {
   "display_name": "Python 3",
   "language": "python",
   "name": "python3"
  },
  "language_info": {
   "codemirror_mode": {
    "name": "ipython",
    "version": 3
   },
   "file_extension": ".py",
   "mimetype": "text/x-python",
   "name": "python",
   "nbconvert_exporter": "python",
   "pygments_lexer": "ipython3",
   "version": "3.8.5"
  }
 },
 "nbformat": 4,
 "nbformat_minor": 5
}
